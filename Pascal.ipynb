{
 "cells": [
  {
   "cell_type": "code",
   "execution_count": 300,
   "id": "004e6b49-aec7-4af5-abd2-0a8122e2cff3",
   "metadata": {},
   "outputs": [],
   "source": [
    "import csv\n",
    "import math\n",
    "import random\n",
    "import statistics"
   ]
  },
  {
   "cell_type": "code",
   "execution_count": 348,
   "id": "d00ff7ce-40fe-44d5-a621-dacca843d712",
   "metadata": {},
   "outputs": [],
   "source": [
    "def main():\n",
    "    with open('store.csv', newline='', encoding='utf-8') as csvfile:\n",
    "        store_goods = [item for item in csv.DictReader(csvfile, delimiter=';')]\n",
    "    \n",
    "    with open('order.csv', newline='', encoding='utf-8') as csvfile:\n",
    "        order_goods = [item for item in csv.DictReader(csvfile, delimiter=';')]\n",
    "\n",
    "    deficit_goods = [\n",
    "        order_item['Название'] for store_item in store_goods for order_item in order_goods\n",
    "        if store_item['Название'] == order_item['Название'] \n",
    "        and store_item['Количество'] < order_item['Количество']\n",
    "    ]\n",
    "\n",
    "    print(f'Список товаров: {\", \".join(deficit_goods)}')\n"
   ]
  },
  {
   "cell_type": "code",
   "execution_count": 349,
   "id": "d3974cf8-fa46-4f29-8f33-89fbc0585240",
   "metadata": {},
   "outputs": [
    {
     "name": "stdout",
     "output_type": "stream",
     "text": [
      "Список товаров: Лампа, Диван\n"
     ]
    }
   ],
   "source": [
    "main()"
   ]
  },
  {
   "cell_type": "code",
   "execution_count": 68,
   "id": "08088504-6e00-4468-b55e-442e436b8d75",
   "metadata": {},
   "outputs": [],
   "source": [
    "def calculate_func_12(x: int) -> int:\n",
    "    return math.sqrt(abs(math.sin(x))) / 3 + (math.exp(0.12 * x)) ** (1 / 3)"
   ]
  },
  {
   "cell_type": "code",
   "execution_count": 67,
   "id": "28f223a0-0fc5-4669-8337-7970ca95ee3d",
   "metadata": {},
   "outputs": [],
   "source": [
    "def calculate_func_16(a: int, x: int) -> int:\n",
    "    if x > 0:\n",
    "        return a + math.sqrt(x ** 3 / (2 * a - x))\n",
    "    return 2 * a - a / (2 * (math.exp(x / a) + math.exp(- x / a)))"
   ]
  },
  {
   "cell_type": "code",
   "execution_count": 69,
   "id": "e9082847-d3d1-4e3e-949d-412a455055de",
   "metadata": {},
   "outputs": [],
   "source": [
    "def calculate_func_132(n: int, x: int) -> int:\n",
    "    func_for_prod = lambda k: (abs(math.cos(math.sqrt(k * x))) + math.log(x)) / (x ** (2 / 3) + 1 / 3)\n",
    "    return n * math.exp(x) + math.prod(map(func_for_prod, range(1, n+1))) + 1.5"
   ]
  },
  {
   "cell_type": "code",
   "execution_count": 97,
   "id": "aba4d564-b29d-4278-a7ca-80d777e693be",
   "metadata": {},
   "outputs": [],
   "source": [
    "def calculate_func_141(x: tuple[int | float]) -> int:\n",
    "    return sum(x[:-1:2]) - sum(x[1::2])"
   ]
  },
  {
   "cell_type": "code",
   "execution_count": 114,
   "id": "62edcc43-8c7a-448d-9156-145d6f47f59d",
   "metadata": {},
   "outputs": [],
   "source": [
    "def calculate_func_142(x: tuple[int | float], y: tuple[int | float]) -> list[int | float]:\n",
    "    return [\n",
    "        x_elem for x_elem, y_elem in zip(x, y)\n",
    "        if x_elem > 0 and x_elem > y_elem\n",
    "    ]   "
   ]
  },
  {
   "cell_type": "code",
   "execution_count": 133,
   "id": "409968c1-09d3-4681-9ad9-0d28abca428a",
   "metadata": {},
   "outputs": [],
   "source": [
    "def calculate_func_143(x: tuple[int | float], y: tuple[int | float]) -> int:\n",
    "    diff_of_squares = enumerate(\n",
    "        [x_elem ** 2 - y_elem ** 2 for x_elem, y_elem in zip(x, y)], 1\n",
    "    )\n",
    "    return min(diff_of_squares, key=lambda x: x[1])[0]"
   ]
  },
  {
   "cell_type": "code",
   "execution_count": 135,
   "id": "50d4358f-5c65-4c2a-b0ef-c321a6dc2e9e",
   "metadata": {},
   "outputs": [],
   "source": [
    "def calculate_func_251(x: list[tuple[int | float, int | float]]) -> list[int]:\n",
    "    return [\n",
    "        i for i, (x1, x2) in enumerate(x, 1)\n",
    "        if x1 ** 2 < abs(x2)\n",
    "    ]"
   ]
  },
  {
   "cell_type": "code",
   "execution_count": 147,
   "id": "f12b0c0e-0eb5-4e2b-98ce-9e4033473e8f",
   "metadata": {},
   "outputs": [],
   "source": [
    "def calculate_func_252(x: list[list[int]]) -> int:\n",
    "    suitable_items = [elem for row_index, row in enumerate(x) for elem in row if elem > row[row_index]]\n",
    "    return statistics.mean(suitable_items)"
   ]
  },
  {
   "cell_type": "code",
   "execution_count": 148,
   "id": "6ff9bacf-0d8f-4279-803f-b9bcb66dc9e1",
   "metadata": {},
   "outputs": [],
   "source": [
    "def get_diagonal_sum(x: list[list[int]]) -> int:\n",
    "    return sum([row[i] for i, row in enumerate(x)])"
   ]
  },
  {
   "cell_type": "code",
   "execution_count": 177,
   "id": "18195ea6-49f5-4039-bfdf-26f4a302f705",
   "metadata": {},
   "outputs": [],
   "source": [
    "def check_matrix(x: list[list[int]]) -> bool:\n",
    "    return sum(x[0] + x[1]) < sum(x[-1] + x[-2]) "
   ]
  },
  {
   "cell_type": "code",
   "execution_count": 216,
   "id": "1b987a7b-f918-4f4d-a070-628382940a45",
   "metadata": {},
   "outputs": [],
   "source": [
    "def calculate_func_253(matrix: list[list[int]], x: tuple[int]) -> list[list[int]]:\n",
    "    return [[sum(elem) for elem in zip(row, x)] for row in matrix]"
   ]
  },
  {
   "cell_type": "code",
   "execution_count": 227,
   "id": "0779f69a-9b85-4454-847b-5f27773fa59e",
   "metadata": {},
   "outputs": [],
   "source": [
    "def get_max_item(matrix: list[list[int]]) -> bool:\n",
    "    items = [[row_index, col_index, value] for row_index, row in enumerate(matrix) for col_index, value in enumerate(row)]\n",
    "    return max(items, key=lambda x: x[2])"
   ]
  },
  {
   "cell_type": "code",
   "execution_count": 294,
   "id": "1e5d4144-05e4-4d2e-96c4-c9131d127707",
   "metadata": {},
   "outputs": [],
   "source": [
    "def transpose_matrix(matrix: list[list[int]]) -> list[tuple[int]]:\n",
    "    return [*zip(*matrix)]"
   ]
  },
  {
   "cell_type": "code",
   "execution_count": 224,
   "id": "8b68b61f-c0d5-4919-a945-4f8703e14679",
   "metadata": {},
   "outputs": [],
   "source": [
    "def calculate_func_433(matrix: list[list[int]], max_item: list[int]) -> list[list[int]]:\n",
    "    return sum(matrix[max_item[0]]) + sum([row[max_item[1]] for row in matrix]) - max_item[2]"
   ]
  },
  {
   "cell_type": "code",
   "execution_count": 215,
   "id": "c654b828-7345-4f1e-ad2b-918baa41fa73",
   "metadata": {},
   "outputs": [],
   "source": [
    "def get_inputs() -> tuple[int]:\n",
    "    return eval(input(f'Введите элементы Х через запятую:'))"
   ]
  },
  {
   "cell_type": "code",
   "execution_count": 278,
   "id": "607cf84c-920d-4bf1-ba46-116e244f6032",
   "metadata": {},
   "outputs": [],
   "source": [
    "def get_matrix() -> list[list[int]]:\n",
    "    items = list(range(1, 26))\n",
    "    random.shuffle(items)\n",
    "    return [items[5 * i:5 * (i + 1)] for i in range(5)]"
   ]
  },
  {
   "cell_type": "code",
   "execution_count": 314,
   "id": "ec417ab5-8738-4f37-a0e3-7271cbaf2609",
   "metadata": {},
   "outputs": [],
   "source": [
    "def parse_students():\n",
    "    with open('students.csv', newline='', encoding='utf-8') as csvfile:\n",
    "        students = csv.DictReader(csvfile, delimiter=';')\n",
    "    return students"
   ]
  }
 ],
 "metadata": {
  "kernelspec": {
   "display_name": "Python 3 (ipykernel)",
   "language": "python",
   "name": "python3"
  },
  "language_info": {
   "codemirror_mode": {
    "name": "ipython",
    "version": 3
   },
   "file_extension": ".py",
   "mimetype": "text/x-python",
   "name": "python",
   "nbconvert_exporter": "python",
   "pygments_lexer": "ipython3",
   "version": "3.10.1"
  }
 },
 "nbformat": 4,
 "nbformat_minor": 5
}
