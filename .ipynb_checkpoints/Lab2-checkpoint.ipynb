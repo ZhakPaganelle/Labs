{
 "cells": [
  {
   "cell_type": "markdown",
   "id": "41dd2678",
   "metadata": {},
   "source": [
    "# Лабораторная работа №2"
   ]
  },
  {
   "cell_type": "markdown",
   "id": "ba750fc2",
   "metadata": {},
   "source": [
    "1. Создайте два варианта функции, которая возвращает кортеж значений. Первый вариант принимает на вход параметры в виде кортежа, второй вариант параметры в каррированном виде."
   ]
  },
  {
   "cell_type": "code",
   "execution_count": 1,
   "id": "8f71776a",
   "metadata": {},
   "outputs": [],
   "source": [
    "def double_tuple(tup):\n",
    "    '''\n",
    "    Returns doubled values of input tuple\n",
    "    '''\n",
    "    tup = (i*2 for i in tup)\n",
    "    return tuple(tup)"
   ]
  },
  {
   "cell_type": "code",
   "execution_count": 2,
   "id": "9ea42e66",
   "metadata": {},
   "outputs": [
    {
     "data": {
      "text/plain": [
       "(2, 4, 6)"
      ]
     },
     "execution_count": 2,
     "metadata": {},
     "output_type": "execute_result"
    }
   ],
   "source": [
    "double_tuple((1, 2, 3))"
   ]
  },
  {
   "cell_type": "code",
   "execution_count": 3,
   "id": "ba8f2562",
   "metadata": {},
   "outputs": [],
   "source": [
    "def doubling_vector(x):\n",
    "    '''\n",
    "    Returns tuple of doubled values of all arguments\n",
    "    '''\n",
    "    def double_y(y):\n",
    "        def double_z(z):\n",
    "            return (2*x, 2*y, 2*z)\n",
    "        return double_z\n",
    "    return double_y"
   ]
  },
  {
   "cell_type": "code",
   "execution_count": 4,
   "id": "6a1a7505",
   "metadata": {},
   "outputs": [
    {
     "data": {
      "text/plain": [
       "(2, 4, 6)"
      ]
     },
     "execution_count": 4,
     "metadata": {},
     "output_type": "execute_result"
    }
   ],
   "source": [
    "doubling_vector(1)(2)(3)"
   ]
  },
  {
   "cell_type": "markdown",
   "id": "894b0a23",
   "metadata": {},
   "source": [
    "2. Выберите простой алгоритм, который может быть реализован в виде рекурсивной функции и реализуйте его на любом языке программирования. Пример – вычисление суммы целых чисел в заданном диапазоне."
   ]
  },
  {
   "cell_type": "code",
   "execution_count": 5,
   "id": "3e24cab0",
   "metadata": {},
   "outputs": [],
   "source": [
    "def fib(n):\n",
    "    '''\n",
    "    Returns Fibonacci number with index n\n",
    "    '''\n",
    "    if n == 0 or n == 1:\n",
    "        return n\n",
    "\n",
    "    fib_n = fib(n-2) + fib(n-1)\n",
    "\n",
    "    return fib_n\n"
   ]
  },
  {
   "cell_type": "code",
   "execution_count": 6,
   "id": "6fba0f54",
   "metadata": {},
   "outputs": [
    {
     "data": {
      "text/plain": [
       "55"
      ]
     },
     "execution_count": 6,
     "metadata": {},
     "output_type": "execute_result"
    }
   ],
   "source": [
    "fib(10)"
   ]
  },
  {
   "cell_type": "markdown",
   "id": "c47557aa",
   "metadata": {},
   "source": [
    "3. Преобразуйте разработанную рекурсивную функцию в форму хвостовой рекурсии"
   ]
  },
  {
   "cell_type": "code",
   "execution_count": 7,
   "id": "53e17701",
   "metadata": {},
   "outputs": [],
   "source": [
    "def fib_tail(n, a=0, b=1):\n",
    "    if n == 0:\n",
    "        return a\n",
    "\n",
    "    if n == 1:\n",
    "        return b\n",
    "\n",
    "    return fib_tail(n-1, b, a+b)\n"
   ]
  },
  {
   "cell_type": "code",
   "execution_count": 8,
   "id": "208ece53",
   "metadata": {},
   "outputs": [
    {
     "data": {
      "text/plain": [
       "55"
      ]
     },
     "execution_count": 8,
     "metadata": {},
     "output_type": "execute_result"
    }
   ],
   "source": [
    "fib_tail(10)"
   ]
  },
  {
   "cell_type": "markdown",
   "id": "009fc85a",
   "metadata": {},
   "source": [
    "4. Разработайте конечный автомат из трех состояний и реализуйте его в виде взаимнорекурсивных функций"
   ]
  },
  {
   "cell_type": "code",
   "execution_count": 9,
   "id": "b9a93efb",
   "metadata": {},
   "outputs": [],
   "source": [
    "class Lamp:\n",
    "    # Instance for switching among states\n",
    "    def __init__(self):\n",
    "        self.state = None"
   ]
  },
  {
   "cell_type": "code",
   "execution_count": 10,
   "id": "e364cc9b",
   "metadata": {},
   "outputs": [],
   "source": [
    "def change_state(obj, states):\n",
    "    if not len(states):\n",
    "        print(obj.state)\n",
    "        return obj.state\n",
    "    signal, states = states[0], states[1:]\n",
    "    r(obj, signal, states)"
   ]
  },
  {
   "cell_type": "code",
   "execution_count": 11,
   "id": "a06b0b53",
   "metadata": {},
   "outputs": [],
   "source": [
    "def r(obj, signal, states):\n",
    "    if signal == 'r':\n",
    "        obj.state = signal\n",
    "        change_state(obj, states)\n",
    "    g(obj, signal, states)\n",
    "\n",
    "\n",
    "def g(obj, signal, states):\n",
    "    if signal == 'g':\n",
    "        obj.state = signal\n",
    "        change_state(obj, states)\n",
    "    b(obj, signal, states)\n",
    "\n",
    "\n",
    "def b(obj, signal, states):\n",
    "    if signal == 'b':\n",
    "        obj.state = signal\n",
    "        change_state(obj, states)"
   ]
  },
  {
   "cell_type": "code",
   "execution_count": 12,
   "id": "03043128",
   "metadata": {},
   "outputs": [],
   "source": [
    "signals = 'rrbgrgb'"
   ]
  },
  {
   "cell_type": "code",
   "execution_count": 13,
   "id": "3f0360c1",
   "metadata": {},
   "outputs": [
    {
     "name": "stdout",
     "output_type": "stream",
     "text": [
      "b\n"
     ]
    }
   ],
   "source": [
    "change_state(Lamp(), signals)"
   ]
  },
  {
   "cell_type": "markdown",
   "id": "2bb8f89c",
   "metadata": {},
   "source": [
    "5. Разработайте функцию, которая принимает 3 целых числа и лямбда-выражение для их суммирования в виде кортежа и в каррированном виде. "
   ]
  },
  {
   "cell_type": "code",
   "execution_count": 14,
   "id": "8a0e6f1f",
   "metadata": {},
   "outputs": [],
   "source": [
    "from functools import partial"
   ]
  },
  {
   "cell_type": "code",
   "execution_count": 15,
   "id": "4052e139",
   "metadata": {},
   "outputs": [],
   "source": [
    "def count(*args):\n",
    "    if not callable(args[-1]):\n",
    "        return partial(count, *args)\n",
    "\n",
    "    return args[-1](args[:-1])"
   ]
  },
  {
   "cell_type": "markdown",
   "id": "b5a52ca9",
   "metadata": {},
   "source": [
    "Tuple sum"
   ]
  },
  {
   "cell_type": "code",
   "execution_count": 16,
   "id": "c5c9b030",
   "metadata": {},
   "outputs": [
    {
     "data": {
      "text/plain": [
       "6"
      ]
     },
     "execution_count": 16,
     "metadata": {},
     "output_type": "execute_result"
    }
   ],
   "source": [
    "count((1, 2, 3), lambda arr: sum(arr[0]))"
   ]
  },
  {
   "cell_type": "markdown",
   "id": "f8245b81",
   "metadata": {},
   "source": [
    "Carrying"
   ]
  },
  {
   "cell_type": "code",
   "execution_count": 17,
   "id": "e137d2dc",
   "metadata": {},
   "outputs": [
    {
     "data": {
      "text/plain": [
       "6"
      ]
     },
     "execution_count": 17,
     "metadata": {},
     "output_type": "execute_result"
    }
   ],
   "source": [
    "count(1)(2)(3)(lambda arr: sum(arr))"
   ]
  }
 ],
 "metadata": {
  "kernelspec": {
   "display_name": "Python 3",
   "language": "python",
   "name": "python3"
  },
  "language_info": {
   "codemirror_mode": {
    "name": "ipython",
    "version": 3
   },
   "file_extension": ".py",
   "mimetype": "text/x-python",
   "name": "python",
   "nbconvert_exporter": "python",
   "pygments_lexer": "ipython3",
   "version": "3.9.5"
  }
 },
 "nbformat": 4,
 "nbformat_minor": 5
}
