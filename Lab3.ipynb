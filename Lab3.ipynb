{
 "cells": [
  {
   "cell_type": "markdown",
   "id": "6805708e",
   "metadata": {},
   "source": [
    "# Лабораторная работа №3 "
   ]
  },
  {
   "cell_type": "markdown",
   "id": "4fcb62dd",
   "metadata": {},
   "source": [
    "1. Разработайте функцию, которая принимает три параметра обобщенных типов и возвращает их в виде кортежа. Модифицируйте функцию: не указывая явно типы параметров, задавая выражения в теле функции, сделайте так, чтобы параметры были типов int, float, string."
   ]
  },
  {
   "cell_type": "code",
   "execution_count": 1,
   "id": "a9826ae3",
   "metadata": {},
   "outputs": [],
   "source": [
    "def make_tuple(a, b, c):\n",
    "    return (a, b, c)"
   ]
  },
  {
   "cell_type": "code",
   "execution_count": 2,
   "id": "66a8f3ce",
   "metadata": {},
   "outputs": [
    {
     "data": {
      "text/plain": [
       "(1, 2, 3)"
      ]
     },
     "execution_count": 2,
     "metadata": {},
     "output_type": "execute_result"
    }
   ],
   "source": [
    "make_tuple(1, 2, 3)"
   ]
  },
  {
   "cell_type": "code",
   "execution_count": 3,
   "id": "02b57b12",
   "metadata": {},
   "outputs": [
    {
     "data": {
      "text/plain": [
       "('one', 'two', 'three')"
      ]
     },
     "execution_count": 3,
     "metadata": {},
     "output_type": "execute_result"
    }
   ],
   "source": [
    "make_tuple('one', 'two', 'three')"
   ]
  },
  {
   "cell_type": "code",
   "execution_count": 4,
   "id": "428938fb",
   "metadata": {},
   "outputs": [
    {
     "data": {
      "text/plain": [
       "(1.0, 2.5, 8.8)"
      ]
     },
     "execution_count": 4,
     "metadata": {},
     "output_type": "execute_result"
    }
   ],
   "source": [
    "make_tuple(1.0, 2.5, 8.8)"
   ]
  },
  {
   "cell_type": "markdown",
   "id": "d2f1890f",
   "metadata": {},
   "source": [
    "2. С использованием двухэтапного создания обобщенных функций реализуйте функции, которые осуществляют сложение:\n",
    "\n",
    "• трех аргументов типа int;\n",
    "\n",
    "• трех аргументов типа float;\n",
    "\n",
    "• трех аргументов типа string. "
   ]
  },
  {
   "cell_type": "code",
   "execution_count": 5,
   "id": "036ccb2a",
   "metadata": {},
   "outputs": [],
   "source": [
    "def summarise(a, b, c):\n",
    "    # Python doesn't need to specify types, but anyway, why not\n",
    "    check = lambda objects, val_type: all(isinstance(obj, val_type) for obj in objects)\n",
    "    if check((a, b, c), int):\n",
    "        return sum_ints(a, b, c)\n",
    "    elif check((a, b, c), float):\n",
    "        return sum_floats(a, b, c)\n",
    "    elif check((a, b, c), str):\n",
    "        return sum_strings(a, b, c, add_spaces=True)\n",
    "    \n",
    "\n",
    "def sum_ints(*args):\n",
    "    return sum(args)\n",
    "\n",
    "\n",
    "def sum_floats(*args):\n",
    "    return sum(args)\n",
    "\n",
    "def sum_strings(*args, add_spaces=False):\n",
    "    join_symbol = ' ' if add_spaces else ''\n",
    "    return join_symbol.join(args)"
   ]
  },
  {
   "cell_type": "code",
   "execution_count": 6,
   "id": "b853121a",
   "metadata": {},
   "outputs": [
    {
     "data": {
      "text/plain": [
       "6"
      ]
     },
     "execution_count": 6,
     "metadata": {},
     "output_type": "execute_result"
    }
   ],
   "source": [
    "summarise(1, 2, 3)"
   ]
  },
  {
   "cell_type": "code",
   "execution_count": 7,
   "id": "59073e8b",
   "metadata": {},
   "outputs": [
    {
     "data": {
      "text/plain": [
       "7.0"
      ]
     },
     "execution_count": 7,
     "metadata": {},
     "output_type": "execute_result"
    }
   ],
   "source": [
    "summarise(1.5, 2.2, 3.3)"
   ]
  },
  {
   "cell_type": "code",
   "execution_count": 8,
   "id": "aafed83c",
   "metadata": {},
   "outputs": [
    {
     "data": {
      "text/plain": [
       "'Hello, cruel world!'"
      ]
     },
     "execution_count": 8,
     "metadata": {},
     "output_type": "execute_result"
    }
   ],
   "source": [
    "summarise('Hello,', 'cruel', 'world!')"
   ]
  },
  {
   "cell_type": "markdown",
   "id": "fe5af801",
   "metadata": {},
   "source": [
    "3. С использованием list comprehension для четных элементов списка верните список кортежей. Каждый кортеж содержит элемент списка, его квадрат и куб. "
   ]
  },
  {
   "cell_type": "code",
   "execution_count": 9,
   "id": "5d259548",
   "metadata": {},
   "outputs": [],
   "source": [
    "def squares_and_cubes(raw):\n",
    "    return [(i, i**2, i**3) for i in raw[1::2]]"
   ]
  },
  {
   "cell_type": "code",
   "execution_count": 10,
   "id": "689f43c2",
   "metadata": {},
   "outputs": [
    {
     "data": {
      "text/plain": [
       "[(2, 4, 8), (4, 16, 64)]"
      ]
     },
     "execution_count": 10,
     "metadata": {},
     "output_type": "execute_result"
    }
   ],
   "source": [
    "squares_and_cubes([1, 2, 3, 4, 5])"
   ]
  },
  {
   "cell_type": "markdown",
   "id": "c120656c",
   "metadata": {},
   "source": [
    "4. Напишите два варианта функции, которая принимает на вход список и возвращает квадраты его значений. Необходимо использовать свойства списка ."
   ]
  },
  {
   "cell_type": "code",
   "execution_count": 11,
   "id": "322267da",
   "metadata": {},
   "outputs": [],
   "source": [
    "def square_list_list_comprehension(raw):\n",
    "    # Using list comprehension\n",
    "    return [i**2 for i in raw]\n",
    "\n",
    "\n",
    "def square_list_map(raw):\n",
    "    # Using map function\n",
    "    return list(map(lambda x: x**2, raw))\n",
    "\n",
    "\n",
    "def square_list_change(raw):\n",
    "    # Returns the same object\n",
    "    # Might be useful with global objects, web dev, etc.\n",
    "    for i in range(len(raw)):\n",
    "        raw[i] **= 2\n",
    "    \n",
    "    return raw"
   ]
  },
  {
   "cell_type": "code",
   "execution_count": 12,
   "id": "ae57eabc",
   "metadata": {},
   "outputs": [],
   "source": [
    "raw = [1, 2, 3, 4, 5]"
   ]
  },
  {
   "cell_type": "code",
   "execution_count": 13,
   "id": "8396ddba",
   "metadata": {},
   "outputs": [
    {
     "data": {
      "text/plain": [
       "[1, 4, 9, 16, 25]"
      ]
     },
     "execution_count": 13,
     "metadata": {},
     "output_type": "execute_result"
    }
   ],
   "source": [
    "square_list_list_comprehension(raw)"
   ]
  },
  {
   "cell_type": "code",
   "execution_count": 14,
   "id": "acb3e6c8",
   "metadata": {},
   "outputs": [
    {
     "data": {
      "text/plain": [
       "[1, 4, 9, 16, 25]"
      ]
     },
     "execution_count": 14,
     "metadata": {},
     "output_type": "execute_result"
    }
   ],
   "source": [
    "square_list_map(raw)"
   ]
  },
  {
   "cell_type": "code",
   "execution_count": 15,
   "id": "22fa58da",
   "metadata": {},
   "outputs": [
    {
     "data": {
      "text/plain": [
       "[1, 4, 9, 16, 25]"
      ]
     },
     "execution_count": 15,
     "metadata": {},
     "output_type": "execute_result"
    }
   ],
   "source": [
    "square_list_change(raw)"
   ]
  },
  {
   "cell_type": "markdown",
   "id": "c4235630",
   "metadata": {},
   "source": [
    "5. Последовательно примените к списку функции map, sort, filter, fold, zip, функции агрегирования. Функции применяются в любом порядке и произвольно используются в трех комбинациях."
   ]
  },
  {
   "cell_type": "code",
   "execution_count": 16,
   "id": "710f77d8",
   "metadata": {},
   "outputs": [],
   "source": [
    "from functools import reduce  # Pythonic equivalent for fold\n",
    "from functools import partial"
   ]
  },
  {
   "cell_type": "code",
   "execution_count": 17,
   "id": "4819f385",
   "metadata": {},
   "outputs": [],
   "source": [
    "raw = [i for i in range(10)]"
   ]
  },
  {
   "cell_type": "markdown",
   "id": "0372a08f",
   "metadata": {},
   "source": [
    "Первая комбинация заканчивается функцией агрегирования (например, сумма элементов списка). Cписок предварительно может быть отсортирован, отфильтрован и т.д. "
   ]
  },
  {
   "cell_type": "code",
   "execution_count": 18,
   "id": "ee724e89",
   "metadata": {},
   "outputs": [
    {
     "data": {
      "text/plain": [
       "52"
      ]
     },
     "execution_count": 18,
     "metadata": {},
     "output_type": "execute_result"
    }
   ],
   "source": [
    "sum(map(lambda x: x+1, filter(lambda x: x//2, raw)))"
   ]
  },
  {
   "cell_type": "markdown",
   "id": "9e9bb26a",
   "metadata": {},
   "source": [
    "Вторая комбинация заканчивается функцией fold, которая осуществляет свертку списка.\n",
    "Вторая комбинация выполняет те же действия, что и первая комбинация и должна возвращать такой же результат"
   ]
  },
  {
   "cell_type": "code",
   "execution_count": 19,
   "id": "df4ffa91",
   "metadata": {},
   "outputs": [
    {
     "data": {
      "text/plain": [
       "52"
      ]
     },
     "execution_count": 19,
     "metadata": {},
     "output_type": "execute_result"
    }
   ],
   "source": [
    "reduce(lambda x, y: x+y, map(lambda x: x+1, filter(lambda x: x//2, raw)))"
   ]
  },
  {
   "cell_type": "markdown",
   "id": "488e13f2",
   "metadata": {},
   "source": [
    "Третья комбинация заканчивается функцией zip, которая соединяет два списка."
   ]
  },
  {
   "cell_type": "code",
   "execution_count": 20,
   "id": "d72463d7",
   "metadata": {},
   "outputs": [
    {
     "data": {
      "text/plain": [
       "[(3, 10), (4, 9), (5, 8), (6, 7), (7, 6), (8, 5), (9, 4), (10, 3)]"
      ]
     },
     "execution_count": 20,
     "metadata": {},
     "output_type": "execute_result"
    }
   ],
   "source": [
    "modified = list(map(lambda x: x+1, filter(lambda x: x//2, raw)))\n",
    "\n",
    "list(zip(modified, reversed(modified)))"
   ]
  },
  {
   "cell_type": "markdown",
   "id": "87cab3e3",
   "metadata": {},
   "source": [
    "6. Реализуйте предыдущий пункт с использованием оператора потока « |> »"
   ]
  },
  {
   "cell_type": "code",
   "execution_count": 21,
   "id": "e0e786bf",
   "metadata": {},
   "outputs": [],
   "source": [
    "from threading import Thread  # That lab was designed not for python, so let's pretend, that should be like this"
   ]
  },
  {
   "cell_type": "code",
   "execution_count": 22,
   "id": "6861cc35",
   "metadata": {},
   "outputs": [],
   "source": [
    "def modify_list(raw, final_func):\n",
    "    first_step_list = list(map(lambda x: x+1, filter(lambda x: x//2, raw)))\n",
    "    print(final_func(first_step_list))\n",
    "    return final_func(first_step_list)\n",
    "\n",
    "\n",
    "def zip_reversed(raw):\n",
    "    return list(zip(raw, reversed(raw)))"
   ]
  },
  {
   "cell_type": "code",
   "execution_count": 23,
   "id": "414d99f3",
   "metadata": {},
   "outputs": [],
   "source": [
    "threads = []"
   ]
  },
  {
   "cell_type": "code",
   "execution_count": 24,
   "id": "e26c2b82",
   "metadata": {},
   "outputs": [
    {
     "name": "stdout",
     "output_type": "stream",
     "text": [
      "52\n",
      "52\n",
      "[(3, 10), (4, 9), (5, 8), (6, 7), (7, 6), (8, 5), (9, 4), (10, 3)]\n"
     ]
    }
   ],
   "source": [
    "threads.append(Thread(target=modify_list, args=(raw, sum)))\n",
    "threads.append(Thread(target=modify_list, args=(raw, partial(reduce, lambda x, y: x+y),)))\n",
    "threads.append(Thread(target=modify_list, args=(raw, zip_reversed,)))\n",
    "\n",
    "for thread in threads:\n",
    "    thread.start()\n",
    "    \n",
    "for thread in threads:\n",
    "    thread.join()"
   ]
  },
  {
   "cell_type": "markdown",
   "id": "de894991",
   "metadata": {},
   "source": [
    "7. Реализуйте предыдущий пункт с использованием оператора композиции функций « >> ». "
   ]
  },
  {
   "cell_type": "code",
   "execution_count": 25,
   "id": "835cd6dd",
   "metadata": {},
   "outputs": [],
   "source": [
    "# Don't really get if it's already done previously\n",
    "# Anyway, don't see any other native realisation of functions compositions"
   ]
  }
 ],
 "metadata": {
  "kernelspec": {
   "display_name": "Python 3",
   "language": "python",
   "name": "python3"
  },
  "language_info": {
   "codemirror_mode": {
    "name": "ipython",
    "version": 3
   },
   "file_extension": ".py",
   "mimetype": "text/x-python",
   "name": "python",
   "nbconvert_exporter": "python",
   "pygments_lexer": "ipython3",
   "version": "3.9.5"
  }
 },
 "nbformat": 4,
 "nbformat_minor": 5
}
